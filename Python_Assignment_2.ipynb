{
  "nbformat": 4,
  "nbformat_minor": 0,
  "metadata": {
    "colab": {
      "name": "Python Assignment 2.ipynb",
      "provenance": [],
      "collapsed_sections": []
    },
    "kernelspec": {
      "name": "python3",
      "display_name": "Python 3"
    },
    "language_info": {
      "name": "python"
    }
  },
  "cells": [
    {
      "cell_type": "markdown",
      "metadata": {
        "id": "kyYmRuVTqFym"
      },
      "source": [
        "1. Write a program which accepts a sequence of comma-separated numbers from console  and generate a list. \n"
      ]
    },
    {
      "cell_type": "code",
      "metadata": {
        "id": "1qoSx1CYo7Uj",
        "outputId": "9a13c15d-a4ee-43e6-f463-8c3054e5cd02",
        "colab": {
          "base_uri": "https://localhost:8080/"
        }
      },
      "source": [
        "for i in range(0,5):\n",
        "  for j in range(0,i+1):\n",
        "    print('*',end = ' ')\n",
        "  print('\\r') \n",
        "for i in range(5,0,-1):\n",
        "  for j in range(0,i-1):\n",
        "    print('*',end = ' ')\n",
        "  print('\\r') \n"
      ],
      "execution_count": 1,
      "outputs": [
        {
          "output_type": "stream",
          "text": [
            "* \r\n",
            "* * \r\n",
            "* * * \r\n",
            "* * * * \r\n",
            "* * * * * \r\n",
            "* * * * \r\n",
            "* * * \r\n",
            "* * \r\n",
            "* \r\n",
            "\r\n"
          ],
          "name": "stdout"
        }
      ]
    },
    {
      "cell_type": "markdown",
      "metadata": {
        "id": "8aeV2AGxqIcm"
      },
      "source": [
        "2. Write a Python program to reverse a word after accepting the input from the user."
      ]
    },
    {
      "cell_type": "code",
      "metadata": {
        "id": "5-7Wn2j9qMbk",
        "outputId": "35528720-7863-4a07-c26d-dd3a6baa1165",
        "colab": {
          "base_uri": "https://localhost:8080/"
        }
      },
      "source": [
        "word = input('Enter a word: ')\n",
        "print(word[::-1])"
      ],
      "execution_count": 2,
      "outputs": [
        {
          "output_type": "stream",
          "text": [
            "Enter a word: krishna teja\n",
            "ajet anhsirk\n"
          ],
          "name": "stdout"
        }
      ]
    }
  ]
}