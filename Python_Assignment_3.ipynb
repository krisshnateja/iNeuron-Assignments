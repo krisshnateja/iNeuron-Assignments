{
  "nbformat": 4,
  "nbformat_minor": 0,
  "metadata": {
    "colab": {
      "name": "Python Assignment 3.ipynb",
      "provenance": [],
      "collapsed_sections": []
    },
    "kernelspec": {
      "name": "python3",
      "display_name": "Python 3"
    },
    "language_info": {
      "name": "python"
    }
  },
  "cells": [
    {
      "cell_type": "markdown",
      "metadata": {
        "id": "OAfwarzxshpO"
      },
      "source": [
        "1.1 Write a Python Program to implement your own myreduce() function which works exactly  like Python's built-in function reduce() \n"
      ]
    },
    {
      "cell_type": "code",
      "metadata": {
        "id": "JX9ZmHphqdim"
      },
      "source": [
        "#Creating My own reduce function\n",
        "def myreduce(func,list1):\n",
        "  output = 0\n",
        "  for i in list1:\n",
        "    output = func(output,i)\n",
        "  return output  \n",
        "\n",
        "#Creating function to pass as an input to reduce function\n",
        "def sum(x,y):\n",
        "  return x+y\n",
        "\n",
        "#Testing the result\n",
        "print(myreduce(sum,[1,2,3,4]))\n",
        "\n"
      ],
      "execution_count": null,
      "outputs": []
    },
    {
      "cell_type": "markdown",
      "metadata": {
        "id": "fJ_ejhqEsjtV"
      },
      "source": [
        "1.2 Write a Python program to implement your own myfilter() function which works exactly  like Python's built-in function filter() \n"
      ]
    },
    {
      "cell_type": "code",
      "metadata": {
        "id": "qosP35cEsm0u"
      },
      "source": [
        "#Creating my own Filter function\n",
        "def myfilter(func1, list2):\n",
        "    output1 = []\n",
        "    for item in list2:\n",
        "        if func1(item):\n",
        "            output1.append(item)\n",
        "    return output1\n",
        "#Creating function to pass as an input to Filter function\n",
        "def even(x):\n",
        "  if(x%2 == 0):\n",
        "    return True\n",
        "  else:\n",
        "    return False \n",
        "\n",
        "#Testing the result\n",
        "print(myfilter(even,[2,4,5,9,8,10]))"
      ],
      "execution_count": null,
      "outputs": []
    },
    {
      "cell_type": "markdown",
      "metadata": {
        "id": "ODGZiq_0uqOF"
      },
      "source": [
        "2. Implement List comprehensions to produce the following lists.  \n",
        "Write List comprehensions to produce the following Lists \n",
        "['A', 'C', 'A', 'D', 'G', 'I', ’L’, ‘ D’] \n",
        "['x', 'xx', 'xxx', 'xxxx', 'y', 'yy', 'yyy', 'yyyy', 'z', 'zz', 'zzz', 'zzzz']  \n",
        "['x', 'y', 'z', 'xx', 'yy', 'zz', 'xxx', 'yyy', 'zzz', 'xxxx', 'yyyy', 'zzzz']  \n",
        "[[2], [3], [4], [3], [4], [5], [4], [5], [6]] [[2, 3, 4, 5], [3, 4, 5, 6],  \n",
        "[4, 5, 6, 7], [5, 6, 7, 8]] \n"
      ]
    },
    {
      "cell_type": "code",
      "metadata": {
        "colab": {
          "base_uri": "https://localhost:8080/"
        },
        "id": "0GPF_WRputas",
        "outputId": "5fe3d961-fbde-42fd-c3e5-5d4a061aa893"
      },
      "source": [
        "letters = [letter for letter in 'ACADGILD']\n",
        "print(letters)"
      ],
      "execution_count": null,
      "outputs": [
        {
          "output_type": "stream",
          "text": [
            "['A', 'C', 'A', 'D', 'G', 'I', 'L', 'D']\n"
          ],
          "name": "stdout"
        }
      ]
    },
    {
      "cell_type": "code",
      "metadata": {
        "colab": {
          "base_uri": "https://localhost:8080/"
        },
        "id": "l4xI7DSAu5w0",
        "outputId": "eb279723-1c05-4ddc-87a9-f2dd04bfa664"
      },
      "source": [
        "list1 = ['x','y','z']\n",
        "result = [item*i for item in list1 for i in range(1,5)]\n",
        "print(result)"
      ],
      "execution_count": null,
      "outputs": [
        {
          "output_type": "stream",
          "text": [
            "['x', 'xx', 'xxx', 'xxxx', 'y', 'yy', 'yyy', 'yyyy', 'z', 'zz', 'zzz', 'zzzz']\n"
          ],
          "name": "stdout"
        }
      ]
    },
    {
      "cell_type": "code",
      "metadata": {
        "colab": {
          "base_uri": "https://localhost:8080/"
        },
        "id": "RXC8Y4M0vP2d",
        "outputId": "4d92e2b6-8bcd-4e7f-9938-aa5791d450e4"
      },
      "source": [
        "result = [item*i for i in range(1,5) for item in list1]\n",
        "print(result)"
      ],
      "execution_count": null,
      "outputs": [
        {
          "output_type": "stream",
          "text": [
            "['x', 'y', 'z', 'xx', 'yy', 'zz', 'xxx', 'yyy', 'zzz', 'xxxx', 'yyyy', 'zzzz']\n"
          ],
          "name": "stdout"
        }
      ]
    },
    {
      "cell_type": "code",
      "metadata": {
        "colab": {
          "base_uri": "https://localhost:8080/"
        },
        "id": "0IRaFjD-vXZk",
        "outputId": "dc3cb46b-ccb8-4ba5-c757-41955c4ab49e"
      },
      "source": [
        "list2 = [2,3,4]\n",
        "result = [ [item+i] for item in list2 for i in range(0,3)]\n",
        "print(result)"
      ],
      "execution_count": null,
      "outputs": [
        {
          "output_type": "stream",
          "text": [
            "[[2], [3], [4], [3], [4], [5], [4], [5], [6]]\n"
          ],
          "name": "stdout"
        }
      ]
    },
    {
      "cell_type": "code",
      "metadata": {
        "colab": {
          "base_uri": "https://localhost:8080/"
        },
        "id": "IG73XFq_vfgE",
        "outputId": "4300a993-acfb-4dd6-85bb-c77a40bbbcf8"
      },
      "source": [
        "list3 = [2,3,4,5]\n",
        "result = [[item+i for item in list3] for i in range(0,4)]\n",
        "print(result)"
      ],
      "execution_count": null,
      "outputs": [
        {
          "output_type": "stream",
          "text": [
            "[[2, 3, 4, 5], [3, 4, 5, 6], [4, 5, 6, 7], [5, 6, 7, 8]]\n"
          ],
          "name": "stdout"
        }
      ]
    },
    {
      "cell_type": "code",
      "metadata": {
        "colab": {
          "base_uri": "https://localhost:8080/"
        },
        "id": "ISD3XWpMvxVE",
        "outputId": "45544ea4-6ae3-4059-e95e-783f56b85da5"
      },
      "source": [
        "list3=[1,2,3]\n",
        "result = [ (b,a) for a in list3 for b in list3]\n",
        "print(str(result))"
      ],
      "execution_count": null,
      "outputs": [
        {
          "output_type": "stream",
          "text": [
            "[(1, 1), (2, 1), (3, 1), (1, 2), (2, 2), (3, 2), (1, 3), (2, 3), (3, 3)]\n"
          ],
          "name": "stdout"
        }
      ]
    }
  ]
}