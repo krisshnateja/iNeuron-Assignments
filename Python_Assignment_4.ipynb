{
  "nbformat": 4,
  "nbformat_minor": 0,
  "metadata": {
    "colab": {
      "name": "Python Assignment 4.ipynb",
      "provenance": [],
      "collapsed_sections": []
    },
    "kernelspec": {
      "name": "python3",
      "display_name": "Python 3"
    },
    "language_info": {
      "name": "python"
    }
  },
  "cells": [
    {
      "cell_type": "markdown",
      "metadata": {
        "id": "ptX7tqX-wupd"
      },
      "source": [
        "1.1 Write a Python Program(with class concepts) to find the area of the triangle using the below  formula. \n",
        "area = (s*(s-a)*(s-b)*(s-c)) ** 0.5 \n",
        "Function to take the length of the sides of triangle from user should be defined in the parent  class and function to calculate the area should be defined in subclass. \n"
      ]
    },
    {
      "cell_type": "code",
      "metadata": {
        "colab": {
          "base_uri": "https://localhost:8080/"
        },
        "id": "x-IxnbqLwF_p",
        "outputId": "bfe53ea4-42ef-437f-ebd7-87b2aa4b5c8f"
      },
      "source": [
        "class Triangle:\n",
        "    def __init__(self,i,j,k):\n",
        "        self.i=i\n",
        "        self.j=j\n",
        "        self.k=k\n",
        "    def area(self):\n",
        "        s=(self.i+self.j+self.k)/2\n",
        "        area=(s*(s-self.i)*(s-self.j)*(s-self.k))**0.5\n",
        "        return area\n",
        "    \n",
        "i=float(input(\"Enter a length of side i:\"))\n",
        "j=float(input(\"Enter a length of side j:\"))\n",
        "k=float(input(\"Enter a length of side k:\"))\n",
        "tri=Triangle(i,j,k)\n",
        "\n",
        "\n",
        "print(\"Area of trianle is {}\".format(tri.area()))"
      ],
      "execution_count": null,
      "outputs": [
        {
          "output_type": "stream",
          "text": [
            "Enter a length of side i:2\n",
            "Enter a length of side j:2\n",
            "Enter a length of side k:2\n",
            "Area of trianle is 1.7320508075688772\n"
          ],
          "name": "stdout"
        }
      ]
    },
    {
      "cell_type": "markdown",
      "metadata": {
        "id": "qxQeAhgvw1ZM"
      },
      "source": [
        "1.2 Write a function filter_long_words() that takes a list of words and an integer n and returns  the list of words that are longer than n. \n"
      ]
    },
    {
      "cell_type": "code",
      "metadata": {
        "id": "Iw-weobzxV8E"
      },
      "source": [
        "def filter_long_word(list1,n):\n",
        "    list2=[]\n",
        "    for i in range(0,len(list1)):\n",
        "        if len(list1[i])>n:\n",
        "            list2.append(list1[i])\n",
        "    return list2\n",
        "list3=['abcde','lkjjkkl','ujkkloo','lkkm','q']\n",
        "n=int(input(\"Enter a value for n:-\"))\n",
        "output=filter_long_word(list3,n)\n",
        "print(\"List of words longer than {}\".format(n))\n",
        "print(output)"
      ],
      "execution_count": null,
      "outputs": []
    },
    {
      "cell_type": "markdown",
      "metadata": {
        "id": "OF4Cw-xEyH2z"
      },
      "source": [
        "2.1 Write a Python program using function concept that maps list of words into a list of integers  representing the lengths of the corresponding words. \n",
        "Hint: If a list [ ab,cde,erty] is passed on to the python function output should come as [2,3,4] Here 2,3 and 4 are the lengths of the words in the list. \n"
      ]
    },
    {
      "cell_type": "code",
      "metadata": {
        "id": "jMBqKAIiyR7M"
      },
      "source": [
        "def func_length(list1):\n",
        "    list2=[]\n",
        "    for i in range (0,len(list1)):\n",
        "        list2.append(len(list1[i]))\n",
        "    return list2\n",
        "list3=['ab','cde','erty']\n",
        "print(func_length(list3))\n"
      ],
      "execution_count": null,
      "outputs": []
    },
    {
      "cell_type": "markdown",
      "metadata": {
        "id": "LMADTv2d4-3B"
      },
      "source": [
        "2.2 Write a Python function which takes a character (i.e. a string of length 1) and returns True if  it is a vowel, False otherwise. \n"
      ]
    },
    {
      "cell_type": "code",
      "metadata": {
        "id": "4V1GlWVZ5C55"
      },
      "source": [
        "def vowel(x):\n",
        "    if len(x)==1:\n",
        "        if x in ('A','E','I','O','U','a','e','i','o','u',):\n",
        "            return True \n",
        "        else:\n",
        "            return False\n",
        "    \n",
        "    \n",
        "print(vowel('b'))\n",
        "print(vowel('E'))\n",
        "print(vowel('bbb'))"
      ],
      "execution_count": null,
      "outputs": []
    }
  ]
}