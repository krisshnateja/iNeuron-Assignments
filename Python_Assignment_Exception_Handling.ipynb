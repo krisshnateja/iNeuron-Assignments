{
  "nbformat": 4,
  "nbformat_minor": 0,
  "metadata": {
    "colab": {
      "name": "Python Assignment Exception Handling.ipynb",
      "provenance": [],
      "collapsed_sections": []
    },
    "kernelspec": {
      "name": "python3",
      "display_name": "Python 3"
    },
    "language_info": {
      "name": "python"
    }
  },
  "cells": [
    {
      "cell_type": "markdown",
      "metadata": {
        "id": "oXjJ3NQU601y"
      },
      "source": [
        "1. Write a function to compute 5/0 and use try/except to catch the exceptions. \n"
      ]
    },
    {
      "cell_type": "code",
      "metadata": {
        "id": "0I-tMoL659vN"
      },
      "source": [
        "def exec():\n",
        "    try:\n",
        "        c=5/0\n",
        "    except Exception as e:\n",
        "        print(\"You made a exception called {}\".format(e))\n",
        "        \n",
        "exec()"
      ],
      "execution_count": null,
      "outputs": []
    },
    {
      "cell_type": "markdown",
      "metadata": {
        "id": "tkU_ifAO6_Dw"
      },
      "source": [
        "2. Implement a Python program to generate all sentences where subject is in  [\"Americans\", \"Indians\"] and verb is in [\"Play\", \"watch\"] and the object is in  [\"Baseball\",\"cricket\"]. \n",
        "Hint: Subject,Verb and Object should be declared in the program as shown below. \n",
        "subjects=[\"Americans \",\"Indians\"] \n",
        "verbs=[\"play\",\"watch\"] \n",
        "objects=[\"Baseball\",\"Cricket\"] \n"
      ]
    },
    {
      "cell_type": "code",
      "metadata": {
        "colab": {
          "base_uri": "https://localhost:8080/"
        },
        "id": "oijpdPQO7GvR",
        "outputId": "c0fb11c5-8dbc-4921-a629-d2cb5005506c"
      },
      "source": [
        "subjects=[\"Americans \",\"Indians\"] \n",
        "verbs=[\"play\",\"watch\"] \n",
        "objects=[\"Baseball\",\"Cricket\"] \n",
        "\n",
        "for x in range(0,len(subjects)):\n",
        "    for y in range(0,len(verbs)):\n",
        "        for z in range(0,len(objects)):\n",
        "            print(subjects[x]+\" \"+verbs[y]+\" \"+ objects[z]+\".\")"
      ],
      "execution_count": null,
      "outputs": [
        {
          "output_type": "stream",
          "text": [
            "Americans  play Baseball.\n",
            "Americans  play Cricket.\n",
            "Americans  watch Baseball.\n",
            "Americans  watch Cricket.\n",
            "Indians play Baseball.\n",
            "Indians play Cricket.\n",
            "Indians watch Baseball.\n",
            "Indians watch Cricket.\n"
          ],
          "name": "stdout"
        }
      ]
    }
  ]
}