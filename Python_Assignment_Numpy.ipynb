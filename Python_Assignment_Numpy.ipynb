{
  "nbformat": 4,
  "nbformat_minor": 0,
  "metadata": {
    "colab": {
      "name": "Python Assignment Numpy.ipynb",
      "provenance": [],
      "collapsed_sections": []
    },
    "kernelspec": {
      "name": "python3",
      "display_name": "Python 3"
    },
    "language_info": {
      "name": "python"
    }
  },
  "cells": [
    {
      "cell_type": "code",
      "metadata": {
        "id": "BFSXHQ_eAeV4"
      },
      "source": [
        "import numpy as np"
      ],
      "execution_count": null,
      "outputs": []
    },
    {
      "cell_type": "code",
      "metadata": {
        "id": "pmNHUgvuDaJO"
      },
      "source": [
        "Write a function so that the columns of the output matrix are powers of the input vector. \n",
        "The order of the powers is determined by the increasing boolean argument. Specifically, when  increasing is False, the i-th output column is the input vector raised element-wise to the power  of N - i - 1. \n",
        "HINT: Such a matrix with a geometric progression in each row is named for Alexandre Theophile Vandermonde. \n"
      ],
      "execution_count": null,
      "outputs": []
    },
    {
      "cell_type": "code",
      "metadata": {
        "id": "PhjO58nQCVD2"
      },
      "source": [
        "def alexTheoVander(Vector1, n, increasing = False):\n",
        "  if increasing:\n",
        "    Matrix1 = np.matrix([x**i for x in Vector1 for i in range(n)]).reshape(Vector1.size, n)\n",
        "  else:\n",
        "    Matrix1 = np.matrix([x**(n-i-1) for x in Vector1 for i in range(n)]).reshape(Vector1.size, n)\n",
        "  return Matrix1"
      ],
      "execution_count": null,
      "outputs": []
    },
    {
      "cell_type": "code",
      "metadata": {
        "id": "_i3L4eseCvbe"
      },
      "source": [
        "Vector1 = np.array([4, 2, 8, 22,44])"
      ],
      "execution_count": null,
      "outputs": []
    },
    {
      "cell_type": "code",
      "metadata": {
        "id": "UNdyO9XOC6Qv"
      },
      "source": [
        "mat1 = alexTheoVander(Vector1, 5, True)\n",
        "print(mat1)"
      ],
      "execution_count": null,
      "outputs": []
    },
    {
      "cell_type": "code",
      "metadata": {
        "id": "Zc1j_BJvDSgu"
      },
      "source": [
        "mat2 = alexTheoVander(Vector1, 5, False)\n",
        "print(mat2)"
      ],
      "execution_count": null,
      "outputs": []
    },
    {
      "cell_type": "markdown",
      "metadata": {
        "id": "LttTuMmkDbPk"
      },
      "source": [
        "Write a function to find moving average in an array over a window:\n",
        "Test it over [3, 5, 7, 2, 8, 10, 11, 65, 72, 81, 99, 100, 150] and window of 3."
      ]
    },
    {
      "cell_type": "code",
      "metadata": {
        "id": "lKPZsM8nDeqW"
      },
      "source": [
        "def moving_average(a, n=3) :\n",
        "    x = np.cumsum(a, dtype=float)\n",
        "    x[n:] = x[n:] - x[:-n]\n",
        "    return x[n - 1:] / n"
      ],
      "execution_count": null,
      "outputs": []
    },
    {
      "cell_type": "code",
      "metadata": {
        "id": "E2fRXkRnDr12"
      },
      "source": [
        "a = [3, 5, 7, 2, 8, 10, 11, 65, 72, 81, 99, 100, 150]\n",
        "print(moving_average(a, n=3))"
      ],
      "execution_count": null,
      "outputs": []
    }
  ]
}